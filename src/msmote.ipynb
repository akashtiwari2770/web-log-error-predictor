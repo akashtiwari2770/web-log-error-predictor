{
 "cells": [
  {
   "cell_type": "code",
   "execution_count": 1,
   "id": "4c5afffd",
   "metadata": {},
   "outputs": [
    {
     "name": "stderr",
     "output_type": "stream",
     "text": [
      "C:\\Users\\Akash tiwari\\anaconda3\\lib\\site-packages\\dask\\dataframe\\__init__.py:42: FutureWarning: \n",
      "Dask dataframe query planning is disabled because dask-expr is not installed.\n",
      "\n",
      "You can install it with `pip install dask[dataframe]` or `conda install dask`.\n",
      "This will raise in a future version.\n",
      "\n",
      "  warnings.warn(msg, FutureWarning)\n"
     ]
    }
   ],
   "source": [
    "import os\n",
    "import re\n",
    "import pandas as pd\n",
    "import joblib\n",
    "from sklearn.model_selection import train_test_split\n",
    "from sklearn.preprocessing import StandardScaler\n",
    "from sklearn.pipeline import Pipeline\n",
    "from sklearn.compose import ColumnTransformer\n",
    "# from sklearn.ensemble import GradientBoostingClassifier\n",
    "from sklearn.metrics import classification_report, confusion_matrix\n",
    "from sklearn.utils.class_weight import compute_class_weight\n",
    "from imblearn.over_sampling import SMOTE\n",
    "from imblearn.pipeline import Pipeline as ImbPipeline\n",
    "from lightgbm import LGBMClassifier"
   ]
  },
  {
   "cell_type": "code",
   "execution_count": 69,
   "id": "9a51fbf4",
   "metadata": {},
   "outputs": [
    {
     "name": "stdout",
     "output_type": "stream",
     "text": [
      "server-up\n",
      "2    1121680\n",
      "1     172841\n",
      "Name: count, dtype: int64\n"
     ]
    }
   ],
   "source": [
    "df=pd.read_csv(r'C:\\Users\\Akash tiwari\\log prediction model\\Logs\\system_logs.csv')\n",
    "print(df['server-up'].value_counts())"
   ]
  },
  {
   "cell_type": "code",
   "execution_count": 70,
   "id": "c0432838",
   "metadata": {},
   "outputs": [
    {
     "data": {
      "text/html": [
       "<div>\n",
       "<style scoped>\n",
       "    .dataframe tbody tr th:only-of-type {\n",
       "        vertical-align: middle;\n",
       "    }\n",
       "\n",
       "    .dataframe tbody tr th {\n",
       "        vertical-align: top;\n",
       "    }\n",
       "\n",
       "    .dataframe thead th {\n",
       "        text-align: right;\n",
       "    }\n",
       "</style>\n",
       "<table border=\"1\" class=\"dataframe\">\n",
       "  <thead>\n",
       "    <tr style=\"text-align: right;\">\n",
       "      <th></th>\n",
       "      <th>timestamp</th>\n",
       "      <th>load-1m</th>\n",
       "      <th>load-5m</th>\n",
       "      <th>load-15m</th>\n",
       "      <th>sys-mem-swap-total</th>\n",
       "      <th>sys-mem-swap-free</th>\n",
       "      <th>sys-mem-free</th>\n",
       "      <th>sys-mem-cache</th>\n",
       "      <th>sys-mem-buffered</th>\n",
       "      <th>sys-mem-available</th>\n",
       "      <th>...</th>\n",
       "      <th>disk-io-time</th>\n",
       "      <th>disk-bytes-read</th>\n",
       "      <th>disk-bytes-written</th>\n",
       "      <th>disk-io-read</th>\n",
       "      <th>disk-io-write</th>\n",
       "      <th>cpu-iowait</th>\n",
       "      <th>cpu-system</th>\n",
       "      <th>cpu-user</th>\n",
       "      <th>server-up</th>\n",
       "      <th>source_file</th>\n",
       "    </tr>\n",
       "  </thead>\n",
       "  <tbody>\n",
       "    <tr>\n",
       "      <th>0</th>\n",
       "      <td>0</td>\n",
       "      <td>0.22</td>\n",
       "      <td>0.18</td>\n",
       "      <td>0.18</td>\n",
       "      <td>16953372672</td>\n",
       "      <td>16953372672</td>\n",
       "      <td>2071302144</td>\n",
       "      <td>10307330048</td>\n",
       "      <td>1937584128</td>\n",
       "      <td>15328792576</td>\n",
       "      <td>...</td>\n",
       "      <td>0.0076</td>\n",
       "      <td>0.0</td>\n",
       "      <td>16588.8</td>\n",
       "      <td>0.0</td>\n",
       "      <td>2.10</td>\n",
       "      <td>0.0095</td>\n",
       "      <td>0.0240</td>\n",
       "      <td>0.0405</td>\n",
       "      <td>2</td>\n",
       "      <td>system-1.csv</td>\n",
       "    </tr>\n",
       "    <tr>\n",
       "      <th>1</th>\n",
       "      <td>30</td>\n",
       "      <td>0.26</td>\n",
       "      <td>0.19</td>\n",
       "      <td>0.18</td>\n",
       "      <td>16953372672</td>\n",
       "      <td>16953372672</td>\n",
       "      <td>2072969216</td>\n",
       "      <td>10307371008</td>\n",
       "      <td>1937584128</td>\n",
       "      <td>15330496512</td>\n",
       "      <td>...</td>\n",
       "      <td>0.0060</td>\n",
       "      <td>0.0</td>\n",
       "      <td>14745.6</td>\n",
       "      <td>0.0</td>\n",
       "      <td>1.50</td>\n",
       "      <td>0.0125</td>\n",
       "      <td>0.0270</td>\n",
       "      <td>0.0475</td>\n",
       "      <td>2</td>\n",
       "      <td>system-1.csv</td>\n",
       "    </tr>\n",
       "    <tr>\n",
       "      <th>2</th>\n",
       "      <td>60</td>\n",
       "      <td>0.16</td>\n",
       "      <td>0.17</td>\n",
       "      <td>0.18</td>\n",
       "      <td>16953372672</td>\n",
       "      <td>16953372672</td>\n",
       "      <td>2071818240</td>\n",
       "      <td>10307375104</td>\n",
       "      <td>1937584128</td>\n",
       "      <td>15329353728</td>\n",
       "      <td>...</td>\n",
       "      <td>0.0134</td>\n",
       "      <td>0.0</td>\n",
       "      <td>15564.8</td>\n",
       "      <td>0.0</td>\n",
       "      <td>1.65</td>\n",
       "      <td>0.0135</td>\n",
       "      <td>0.0255</td>\n",
       "      <td>0.0260</td>\n",
       "      <td>2</td>\n",
       "      <td>system-1.csv</td>\n",
       "    </tr>\n",
       "    <tr>\n",
       "      <th>3</th>\n",
       "      <td>90</td>\n",
       "      <td>0.16</td>\n",
       "      <td>0.17</td>\n",
       "      <td>0.18</td>\n",
       "      <td>16953372672</td>\n",
       "      <td>16953372672</td>\n",
       "      <td>2071830528</td>\n",
       "      <td>10307379200</td>\n",
       "      <td>1937584128</td>\n",
       "      <td>15329370112</td>\n",
       "      <td>...</td>\n",
       "      <td>0.0078</td>\n",
       "      <td>0.0</td>\n",
       "      <td>16179.2</td>\n",
       "      <td>0.0</td>\n",
       "      <td>1.80</td>\n",
       "      <td>0.0160</td>\n",
       "      <td>0.0305</td>\n",
       "      <td>0.0315</td>\n",
       "      <td>2</td>\n",
       "      <td>system-1.csv</td>\n",
       "    </tr>\n",
       "    <tr>\n",
       "      <th>4</th>\n",
       "      <td>120</td>\n",
       "      <td>0.10</td>\n",
       "      <td>0.15</td>\n",
       "      <td>0.17</td>\n",
       "      <td>16953372672</td>\n",
       "      <td>16953372672</td>\n",
       "      <td>2071859200</td>\n",
       "      <td>10307379200</td>\n",
       "      <td>1937584128</td>\n",
       "      <td>15329398784</td>\n",
       "      <td>...</td>\n",
       "      <td>0.0066</td>\n",
       "      <td>0.0</td>\n",
       "      <td>13721.6</td>\n",
       "      <td>0.0</td>\n",
       "      <td>1.70</td>\n",
       "      <td>0.0080</td>\n",
       "      <td>0.0225</td>\n",
       "      <td>0.0270</td>\n",
       "      <td>2</td>\n",
       "      <td>system-1.csv</td>\n",
       "    </tr>\n",
       "  </tbody>\n",
       "</table>\n",
       "<p>5 rows × 25 columns</p>\n",
       "</div>"
      ],
      "text/plain": [
       "   timestamp  load-1m  load-5m  load-15m  sys-mem-swap-total  \\\n",
       "0          0     0.22     0.18      0.18         16953372672   \n",
       "1         30     0.26     0.19      0.18         16953372672   \n",
       "2         60     0.16     0.17      0.18         16953372672   \n",
       "3         90     0.16     0.17      0.18         16953372672   \n",
       "4        120     0.10     0.15      0.17         16953372672   \n",
       "\n",
       "   sys-mem-swap-free  sys-mem-free  sys-mem-cache  sys-mem-buffered  \\\n",
       "0        16953372672    2071302144    10307330048        1937584128   \n",
       "1        16953372672    2072969216    10307371008        1937584128   \n",
       "2        16953372672    2071818240    10307375104        1937584128   \n",
       "3        16953372672    2071830528    10307379200        1937584128   \n",
       "4        16953372672    2071859200    10307379200        1937584128   \n",
       "\n",
       "   sys-mem-available  ...  disk-io-time  disk-bytes-read  disk-bytes-written  \\\n",
       "0        15328792576  ...        0.0076              0.0             16588.8   \n",
       "1        15330496512  ...        0.0060              0.0             14745.6   \n",
       "2        15329353728  ...        0.0134              0.0             15564.8   \n",
       "3        15329370112  ...        0.0078              0.0             16179.2   \n",
       "4        15329398784  ...        0.0066              0.0             13721.6   \n",
       "\n",
       "   disk-io-read  disk-io-write  cpu-iowait  cpu-system  cpu-user  server-up  \\\n",
       "0           0.0           2.10      0.0095      0.0240    0.0405          2   \n",
       "1           0.0           1.50      0.0125      0.0270    0.0475          2   \n",
       "2           0.0           1.65      0.0135      0.0255    0.0260          2   \n",
       "3           0.0           1.80      0.0160      0.0305    0.0315          2   \n",
       "4           0.0           1.70      0.0080      0.0225    0.0270          2   \n",
       "\n",
       "    source_file  \n",
       "0  system-1.csv  \n",
       "1  system-1.csv  \n",
       "2  system-1.csv  \n",
       "3  system-1.csv  \n",
       "4  system-1.csv  \n",
       "\n",
       "[5 rows x 25 columns]"
      ]
     },
     "execution_count": 70,
     "metadata": {},
     "output_type": "execute_result"
    }
   ],
   "source": [
    "df.head()"
   ]
  },
  {
   "cell_type": "code",
   "execution_count": 71,
   "id": "34379503",
   "metadata": {},
   "outputs": [
    {
     "name": "stdout",
     "output_type": "stream",
     "text": [
      "<class 'pandas.core.frame.DataFrame'>\n",
      "RangeIndex: 1294521 entries, 0 to 1294520\n",
      "Data columns (total 25 columns):\n",
      " #   Column                   Non-Null Count    Dtype  \n",
      "---  ------                   --------------    -----  \n",
      " 0   timestamp                1294521 non-null  int64  \n",
      " 1   load-1m                  1294521 non-null  float64\n",
      " 2   load-5m                  1294521 non-null  float64\n",
      " 3   load-15m                 1294521 non-null  float64\n",
      " 4   sys-mem-swap-total       1294521 non-null  int64  \n",
      " 5   sys-mem-swap-free        1294521 non-null  int64  \n",
      " 6   sys-mem-free             1294521 non-null  int64  \n",
      " 7   sys-mem-cache            1294521 non-null  int64  \n",
      " 8   sys-mem-buffered         1294521 non-null  int64  \n",
      " 9   sys-mem-available        1294521 non-null  int64  \n",
      " 10  sys-mem-total            1294521 non-null  int64  \n",
      " 11  sys-fork-rate            1294521 non-null  float64\n",
      " 12  sys-interrupt-rate       1294521 non-null  float64\n",
      " 13  sys-context-switch-rate  1294521 non-null  float64\n",
      " 14  sys-thermal              1035348 non-null  float64\n",
      " 15  disk-io-time             1294521 non-null  float64\n",
      " 16  disk-bytes-read          1294521 non-null  float64\n",
      " 17  disk-bytes-written       1294521 non-null  float64\n",
      " 18  disk-io-read             1294521 non-null  float64\n",
      " 19  disk-io-write            1294521 non-null  float64\n",
      " 20  cpu-iowait               1294521 non-null  float64\n",
      " 21  cpu-system               1294521 non-null  float64\n",
      " 22  cpu-user                 1294521 non-null  float64\n",
      " 23  server-up                1294521 non-null  int64  \n",
      " 24  source_file              1294521 non-null  object \n",
      "dtypes: float64(15), int64(9), object(1)\n",
      "memory usage: 246.9+ MB\n"
     ]
    }
   ],
   "source": [
    "df.info()"
   ]
  },
  {
   "cell_type": "code",
   "execution_count": 72,
   "id": "8031c8e1",
   "metadata": {},
   "outputs": [],
   "source": [
    "df = df.drop(columns=['source_file','sys-thermal'])"
   ]
  },
  {
   "cell_type": "code",
   "execution_count": 73,
   "id": "c92743c4",
   "metadata": {},
   "outputs": [],
   "source": [
    "df['is_error'] = df['server-up'].apply(lambda x: 1 if x == 1 else 0)"
   ]
  },
  {
   "cell_type": "code",
   "execution_count": 74,
   "id": "7257dd0e",
   "metadata": {},
   "outputs": [],
   "source": [
    "X = df.drop(columns=['timestamp', 'server-up','is_error'])\n",
    "y = df['is_error']"
   ]
  },
  {
   "cell_type": "code",
   "execution_count": 75,
   "id": "b9590a4c",
   "metadata": {},
   "outputs": [],
   "source": [
    "# Train-test split\n",
    "X_train, X_test, y_train, y_test = train_test_split(X, y, stratify=y, test_size=0.2, random_state=42)"
   ]
  },
  {
   "cell_type": "code",
   "execution_count": 76,
   "id": "aee3a443",
   "metadata": {},
   "outputs": [],
   "source": [
    "# Define preprocessing\n",
    "numeric_features = X.columns.tolist()\n",
    "preprocessor = ColumnTransformer([('num', StandardScaler(), numeric_features)])"
   ]
  },
  {
   "cell_type": "code",
   "execution_count": 77,
   "id": "2aa919b4",
   "metadata": {},
   "outputs": [
    {
     "name": "stdout",
     "output_type": "stream",
     "text": [
      "\n",
      "🔁 Training SMOTE-based Model...\n",
      "[LightGBM] [Info] Number of positive: 897343, number of negative: 897343\n",
      "[LightGBM] [Info] Auto-choosing col-wise multi-threading, the overhead of testing was 0.142172 seconds.\n",
      "You can set `force_col_wise=true` to remove the overhead.\n",
      "[LightGBM] [Info] Total Bins 5005\n",
      "[LightGBM] [Info] Number of data points in the train set: 1794686, number of used features: 21\n",
      "[LightGBM] [Info] [binary:BoostFromScore]: pavg=0.500000 -> initscore=0.000000\n",
      "[LightGBM] [Warning] No further splits with positive gain, best gain: -inf\n"
     ]
    }
   ],
   "source": [
    "# ========== 1️⃣ SMOTE-Based Model ==========\n",
    "print(\"\\n🔁 Training SMOTE-based Model...\")\n",
    "\n",
    "smote = SMOTE(random_state=42)\n",
    "\n",
    "model_smote = ImbPipeline(steps=[\n",
    "    ('preprocessor', preprocessor),\n",
    "    ('smote', smote),\n",
    "    ('classifier', LGBMClassifier(\n",
    "        n_estimators=100,\n",
    "        learning_rate=0.1,\n",
    "        class_weight='balanced',  \n",
    "        random_state=42\n",
    "    ))\n",
    "])\n",
    "\n",
    "model_smote.fit(X_train, y_train)\n",
    "y_pred_smote = model_smote.predict(X_test)"
   ]
  },
  {
   "cell_type": "code",
   "execution_count": 78,
   "id": "48a01967",
   "metadata": {},
   "outputs": [
    {
     "name": "stdout",
     "output_type": "stream",
     "text": [
      "\n",
      "📊 SMOTE Model Report:\n",
      "              precision    recall  f1-score   support\n",
      "\n",
      "           0       1.00      1.00      1.00    224337\n",
      "           1       1.00      1.00      1.00     34568\n",
      "\n",
      "    accuracy                           1.00    258905\n",
      "   macro avg       1.00      1.00      1.00    258905\n",
      "weighted avg       1.00      1.00      1.00    258905\n",
      "\n",
      "Confusion Matrix:\n",
      " [[224337      0]\n",
      " [     2  34566]]\n"
     ]
    }
   ],
   "source": [
    "print(\"\\n📊 SMOTE Model Report:\")\n",
    "print(classification_report(y_test, y_pred_smote))\n",
    "print(\"Confusion Matrix:\\n\", confusion_matrix(y_test, y_pred_smote))"
   ]
  },
  {
   "cell_type": "code",
   "execution_count": 79,
   "id": "e75f97b9",
   "metadata": {},
   "outputs": [
    {
     "data": {
      "text/plain": [
       "['C:\\\\Users\\\\Akash tiwari\\\\log prediction model\\\\model_smote.pkl']"
      ]
     },
     "execution_count": 79,
     "metadata": {},
     "output_type": "execute_result"
    }
   ],
   "source": [
    "# Save\n",
    "joblib.dump(model_smote, r'C:\\Users\\Akash tiwari\\log prediction model\\model_smote.pkl')"
   ]
  },
  {
   "cell_type": "code",
   "execution_count": null,
   "id": "6b4d752c",
   "metadata": {},
   "outputs": [],
   "source": []
  }
 ],
 "metadata": {
  "kernelspec": {
   "display_name": "Python 3 (ipykernel)",
   "language": "python",
   "name": "python3"
  },
  "language_info": {
   "codemirror_mode": {
    "name": "ipython",
    "version": 3
   },
   "file_extension": ".py",
   "mimetype": "text/x-python",
   "name": "python",
   "nbconvert_exporter": "python",
   "pygments_lexer": "ipython3",
   "version": "3.9.13"
  }
 },
 "nbformat": 4,
 "nbformat_minor": 5
}
